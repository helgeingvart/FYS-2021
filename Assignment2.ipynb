{
 "cells": [
  {
   "cell_type": "markdown",
   "source": [
    "**Task 1a)** \n",
    "Data is appended as data_problem1.csv. Load the data and report general information of the data.\n",
    "Additionally plot (as histograms) the data and discuss the separability"
   ],
   "metadata": {
    "collapsed": false
   },
   "id": "f61024fa8ed26e9f"
  },
  {
   "cell_type": "code",
   "execution_count": 24,
   "id": "initial_id",
   "metadata": {
    "collapsed": true,
    "ExecuteTime": {
     "end_time": "2023-10-02T13:21:45.513220100Z",
     "start_time": "2023-10-02T13:21:45.129350600Z"
    }
   },
   "outputs": [
    {
     "name": "stdout",
     "output_type": "stream",
     "text": [
      "Shape of the data (2, 3600)\n",
      "Number of samples with labels (0,1): (1600,2000)\n"
     ]
    },
    {
     "data": {
      "text/plain": "<Figure size 640x480 with 1 Axes>",
      "image/png": "[encoded data removed]"
     },
     "metadata": {},
     "output_type": "display_data"
    }
   ],
   "source": [
    "import numpy as np\n",
    "import matplotlib.pyplot as plt\n",
    "\n",
    "data = np.loadtxt(\"Assignment2/data_problem1.csv\", delimiter=\",\", dtype=float)\n",
    "print(\"Shape of the data\", data.shape)\n",
    "\n",
    "x = data[0,:]\n",
    "y = data[1,:]\n",
    "x0 = x[y==0]\n",
    "x1 = x[y==1]\n",
    "print(f\"Number of samples with labels (0,1): ({len(x0)},{len(x1)})\")\n",
    "\n",
    "\n",
    "plt.hist(x0, bins=50, edgecolor='blue', alpha=0.5)\n",
    "plt.hist(x1, bins=50, edgecolor='red', alpha=0.5)\n",
    "plt.show()\n"
   ]
  },
  {
   "cell_type": "markdown",
   "source": [
    "**Task 1c)**\n",
    "Split the data into training and test data. Use the maximum likelihood estimations to estimate the\n",
    "parameters based on the training data. Use the point-estimations of the parameters to implement a Bayes’\n",
    "classifier. Report the test accuracy."
   ],
   "metadata": {
    "collapsed": false
   },
   "id": "63bd4a2b5be07fcd"
  },
  {
   "cell_type": "code",
   "execution_count": 53,
   "outputs": [
    {
     "name": "stdout",
     "output_type": "stream",
     "text": [
      "Accuaracy:  0.8069444444444445\n"
     ]
    }
   ],
   "source": [
    "from numpy import pi, sqrt, exp\n",
    "\n",
    "def gaussian_likelihood(x, mean, std_dev):\n",
    "    return (1 / (sqrt(2 * pi) * std_dev)) * exp(-0.5 * ((x - mean) / std_dev)**2)\n",
    "\n",
    "def gamma_likelihood(x, beta):\n",
    "    # Assuming alpha=2 and x>0\n",
    "    likelihood = (beta**2 * x * np.exp(-beta*x))\n",
    "    return likelihood\n",
    "    \n",
    "def MLE(x_0, x_1):\n",
    "    mu_1 = np.mean(x_1)\n",
    "    sigma_1 = np.std(x_1)\n",
    "    beta_0 = np.mean(x_0)/2\n",
    "    return beta_0, mu_1, sigma_1\n",
    "\n",
    "# Ignoring the scale factor consisting of the sum of probabilities in the denominator\n",
    "def classify_gamma(prior, x, beta):\n",
    "    return prior*gamma_likelihood(x, beta)\n",
    "\n",
    "def classify_gauss(prior, x, mu, std):\n",
    "    return prior*gaussian_likelihood(x, mu, std)\n",
    "        \n",
    "# Randomize data order (without stratification support)\n",
    "random_indexes = np.random.permutation(len(x))\n",
    "x = x[random_indexes]\n",
    "y = y[random_indexes]\n",
    "\n",
    "\n",
    "# Split in train/test set:\n",
    "split_index = int(0.8*len(x))\n",
    "x_train = x[:split_index]\n",
    "y_train = y[:split_index]\n",
    "x0_train = x_train[y_train==0]\n",
    "x1_train = x_train[y_train==1]\n",
    "\n",
    "x_test = x[split_index:]\n",
    "y_test = y[split_index:]\n",
    "\n",
    "beta0, mu1, sigma1 = MLE(x0_train, x1_train)\n",
    "prior_0 = len(x0_train)/len(x_train)\n",
    "prior_1 = len(x1_train)/len(x_train)\n",
    "\n",
    "posteriors_0 = classify_gamma(prior_0, x_test, beta0)\n",
    "posteriors_1 = classify_gauss(prior_1, x_test, mu1, sigma1)\n",
    "\n",
    "decisions = posteriors_0 < posteriors_1\n",
    "ground_truth = y_test == 1\n",
    "\n",
    "accuracy = len(decisions[decisions == ground_truth])/len(decisions)\n",
    "print(\"Accuaracy: \", accuracy)\n"
   ],
   "metadata": {
    "collapsed": false,
    "ExecuteTime": {
     "end_time": "2023-10-02T15:24:48.319947700Z",
     "start_time": "2023-10-02T15:24:48.295719200Z"
    }
   },
   "id": "5f7373ad2b701669"
  },
  {
   "cell_type": "code",
   "execution_count": null,
   "outputs": [],
   "source": [],
   "metadata": {
    "collapsed": false
   },
   "id": "1e2238fc6a306d27"
  }
 ],
 "metadata": {
  "kernelspec": {
   "display_name": "Python 3",
   "language": "python",
   "name": "python3"
  },
  "language_info": {
   "codemirror_mode": {
    "name": "ipython",
    "version": 2
   },
   "file_extension": ".py",
   "mimetype": "text/x-python",
   "name": "python",
   "nbconvert_exporter": "python",
   "pygments_lexer": "ipython2",
   "version": "2.7.6"
  }
 },
 "nbformat": 4,
 "nbformat_minor": 5
}
