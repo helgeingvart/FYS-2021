{
 "cells": [
  {
   "cell_type": "markdown",
   "source": [
    "(2a) First read in the sms-spam-bow.csv. I'm really not sure how to utilize it yet though..."
   ],
   "metadata": {
    "collapsed": false
   }
  },
  {
   "cell_type": "code",
   "execution_count": 6,
   "outputs": [
    {
     "name": "stdout",
     "output_type": "stream",
     "text": [
      "(5574, 8443)\n"
     ]
    }
   ],
   "source": [
    "bow_representation_of_messages = np.loadtxt(\"data/sms-spam-bow.csv\", delimiter=\" \", dtype=int)\n",
    "print(bow_representation_of_messages.shape)\n"
   ],
   "metadata": {
    "collapsed": false,
    "ExecuteTime": {
     "end_time": "2023-05-16T08:10:43.783061200Z",
     "start_time": "2023-05-16T08:10:36.259809200Z"
    }
   }
  },
  {
   "cell_type": "markdown",
   "source": [
    "Now we have the x_j^t BOW matrix, where j is the word-index column-wise, ranging from 0 to 8441 (first column is the ham(0)/spam(1) flag), and t is the sample index ranging from 0 to 5573.\n",
    "First, let's find how many ham/spam messages there are"
   ],
   "metadata": {
    "collapsed": false
   }
  },
  {
   "cell_type": "code",
   "execution_count": 12,
   "outputs": [],
   "source": [
    "N = bow_representation_of_messages.shape[0]\n",
    "\n",
    "# Select 80% for training purposes, the rest for testing\n",
    "N_train = int(N*0.8)\n",
    "N_test = N - N_train\n",
    "\n",
    "training_set = bow_representation_of_messages[:N_train, :]\n",
    "test_set = bow_representation_of_messages[N_train:, :]\n"
   ],
   "metadata": {
    "collapsed": false,
    "ExecuteTime": {
     "end_time": "2023-05-16T08:46:39.712145700Z",
     "start_time": "2023-05-16T08:46:39.698012700Z"
    }
   }
  },
  {
   "cell_type": "markdown",
   "source": [
    "Now, find all the parameters necessary for the classifier based on the training data"
   ],
   "metadata": {
    "collapsed": false
   }
  },
  {
   "cell_type": "code",
   "execution_count": 81,
   "outputs": [
    {
     "name": "stdout",
     "output_type": "stream",
     "text": [
      "Spams:  602 Hams:  3857\n"
     ]
    },
    {
     "name": "stderr",
     "output_type": "stream",
     "text": [
      "C:\\Users\\helge\\AppData\\Local\\Temp\\ipykernel_7960\\154588584.py:22: RuntimeWarning: divide by zero encountered in log\n",
      "  log_p0j = np.log(rel_freq_hams)\n",
      "C:\\Users\\helge\\AppData\\Local\\Temp\\ipykernel_7960\\154588584.py:23: RuntimeWarning: divide by zero encountered in log\n",
      "  log_p1j = np.log(rel_freq_spams)\n"
     ]
    }
   ],
   "source": [
    "\n",
    "which_class = training_set[:, 0]\n",
    "rows_with_ham=np.where(which_class==0)\n",
    "rows_with_spam=np.where(which_class==1)\n",
    "\n",
    "\n",
    "N_ham = np.size(rows_with_ham)\n",
    "N_spam = np.size(rows_with_spam)\n",
    "\n",
    "print (\"Spams: \", N_spam, \"Hams: \", N_ham)\n",
    "\n",
    "BOW_samples = bow_representation_of_messages[:, 1:]\n",
    "hams = BOW_samples[rows_with_ham,:]\n",
    "spams = BOW_samples[rows_with_spam,:]\n",
    "\n",
    "# Now, aggregate this matrix vertically. That is, find number of occurances of word j in all spam and ham \"documents\".\n",
    "N_hams_j = np.sum(hams, axis=1)\n",
    "N_spams_j = np.sum(spams, axis=1)\n",
    "\n",
    "# These are used for estimators for p_ij (eq. 5.31)\n",
    "rel_freq_hams = N_hams_j/N_ham\n",
    "rel_freq_spams = N_spams_j/N_spam\n",
    "log_p0j = np.log(rel_freq_hams)\n",
    "log_p1j = np.log(rel_freq_spams)\n",
    "log_p0j[np.isneginf(log_p0j)] = -100000000000 # Some probabilities are 0. They turn to -Inf when taking the log.\n",
    "log_p1j[np.isneginf(log_p1j)] = -100000000000 # We need to set a very large negative value here to compensate for this\n",
    "\n",
    "log_p0j_inv = np.log(1-rel_freq_hams)\n",
    "log_p1j_inv = np.log(1-rel_freq_spams)\n",
    "\n",
    "\n",
    "# The priors\n",
    "P_ham = N_ham/N_train\n",
    "P_spam = N_spam/N_train\n",
    "\n",
    "# Now we are ready to write the discriminant functions for ham/spam. The input x is the bow representation of a message\n",
    "# Note: The dot product performs the necessary sum over all the words (j-dimension)\n",
    "def g_ham( x ) :\n",
    "    return float(log_p0j.dot(x) + log_p0j_inv.dot((1-x)) + np.log(P_ham))\n",
    "\n",
    "def g_spam( x ) :\n",
    "    return float(log_p1j.dot(x) + log_p1j_inv.dot((1-x)) + np.log(P_spam))\n"
   ],
   "metadata": {
    "collapsed": false,
    "ExecuteTime": {
     "end_time": "2023-05-16T11:09:44.220078700Z",
     "start_time": "2023-05-16T11:09:44.165567400Z"
    }
   }
  },
  {
   "cell_type": "markdown",
   "source": [
    "And now we are ready to test."
   ],
   "metadata": {
    "collapsed": false
   }
  },
  {
   "cell_type": "code",
   "execution_count": 88,
   "outputs": [
    {
     "name": "stdout",
     "output_type": "stream",
     "text": [
      "| 966 4 |\n",
      "| 16 129 |\n",
      "Accuracy: 0.9820627802690582\n"
     ]
    }
   ],
   "source": [
    "real_class = test_set[:, 0]\n",
    "\n",
    "true_positives = 0\n",
    "false_positives = 0\n",
    "true_negatives = 0\n",
    "false_negatives = 0\n",
    "for i in range(N_test):\n",
    "    msg = test_set[i,1:]\n",
    "    y = real_class[i]\n",
    "    msg = msg.reshape(len(msg),1)\n",
    "    # print(\"Ham value:\", g_ham(msg), \"Spam value:\", g_spam(msg), \"Ground truth:\",y==1,\"Flagged:\", g_spam(msg) > g_ham(msg) )\n",
    "    if g_spam(msg) > g_ham(msg) :  # We predicted spam\n",
    "        if y == 1:\n",
    "            true_positives += 1\n",
    "        else :\n",
    "            false_positives += 1\n",
    "    else :   # We predicted ham\n",
    "        if y == 0:\n",
    "            true_negatives += 1\n",
    "        else :\n",
    "            false_negatives += 1\n",
    "\n",
    "# Confusion matrix\n",
    "print(\"|\",true_negatives, false_positives, \"|\")\n",
    "print(\"|\",false_negatives, true_positives, \"|\")\n",
    "print(\"Accuracy:\",(true_positives + true_negatives)/N_test)\n"
   ],
   "metadata": {
    "collapsed": false,
    "ExecuteTime": {
     "end_time": "2023-05-16T11:23:26.661110500Z",
     "start_time": "2023-05-16T11:23:26.536736400Z"
    }
   }
  }
 ],
 "metadata": {
  "kernelspec": {
   "display_name": "Python 3",
   "language": "python",
   "name": "python3"
  },
  "language_info": {
   "codemirror_mode": {
    "name": "ipython",
    "version": 2
   },
   "file_extension": ".py",
   "mimetype": "text/x-python",
   "name": "python",
   "nbconvert_exporter": "python",
   "pygments_lexer": "ipython2",
   "version": "2.7.6"
  }
 },
 "nbformat": 4,
 "nbformat_minor": 0
}
