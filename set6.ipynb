{
 "cells": [
  {
   "cell_type": "markdown",
   "source": [
    "**1a) K-Means algorithm**\n",
    "\n",
    "Input: \n",
    "n: Number of clusters\n",
    "max_iter: Maximum iterations\n"
   ],
   "metadata": {
    "collapsed": false
   },
   "id": "5df32e653c7325e7"
  },
  {
   "cell_type": "code",
   "execution_count": 3,
   "id": "initial_id",
   "metadata": {
    "collapsed": true,
    "ExecuteTime": {
     "end_time": "2023-11-15T14:49:41.850663900Z",
     "start_time": "2023-11-15T14:46:08.284043900Z"
    }
   },
   "outputs": [
    {
     "name": "stdout",
     "output_type": "stream",
     "text": [
      "[0.64937415 0.45257483]\n",
      "[0.17504237 0.4325829 ]\n",
      "[0.19756231 0.96031208]\n",
      "[0.72185053 0.50635672]\n",
      "[0.26850772 0.28884615]\n",
      "[0.15106941 0.92893343]\n"
     ]
    },
    {
     "data": {
      "text/plain": "(array([2, 0, 1, 2, 0, 2, 0, 1, 1, 1], dtype=int64),\n array([[0.72185053, 0.50635672],\n        [0.26850772, 0.28884615],\n        [0.15106941, 0.92893343]]))"
     },
     "execution_count": 3,
     "metadata": {},
     "output_type": "execute_result"
    }
   ],
   "source": [
    "import numpy as np\n",
    "\n",
    "class KMeans:\n",
    "    def __init__(self, k, max_iter):\n",
    "        self._k = k\n",
    "        self._max_iter = max_iter\n",
    "        \n",
    "    def __normalize(self, X):\n",
    "        (m, n) = X.shape      # m samples with n features\n",
    "        std = np.std(X, axis=0)\n",
    "        means = np.mean(X, axis=0)\n",
    "        return (X - means)/std\n",
    "    \n",
    "    def __centroid_index(self, X, centroids):\n",
    "        (m, n) = X.shape\n",
    "        distances = np.ndarray((m,self._k))\n",
    "        \n",
    "        for i in range(m):\n",
    "            for j in range(self._k):\n",
    "                distances[i,j] = np.linalg.norm(X[i,:] - centroids[j, :])\n",
    "\n",
    "        minimum_distances_indexes = np.argmin(distances,axis=1)    # This is the centroid index for all samples due to minimization. Should be of dimension m\n",
    "        return minimum_distances_indexes\n",
    "        \n",
    "    def fit_predict(self, X):\n",
    "        \n",
    "        X_norm = self.__normalize(X)\n",
    "        \n",
    "        (m, n) = X.shape      # m samples with n features\n",
    "        centroids = np.random.rand(self._k,n)     # k centroids with n features\n",
    "        \n",
    "        S_old = np.zeros(m,)\n",
    "        for _ in range(self._max_iter):\n",
    "            \n",
    "            # Step 1) Find which centroid each sample belongs to due to minimum distance \n",
    "            S = self.__centroid_index(X_norm, centroids)    # Will be a array of dimension m with a content ranging from 0..k-1 (cluster number) in each element\n",
    "            if np.all(S_old == S) :\n",
    "                return S, centroids\n",
    "            \n",
    "            \n",
    "            # Step 2) Based on each collection of points, find the new centroid center.\n",
    "            # new_centroids = np.array(self._k,n)\n",
    "            for i in range(self._k):\n",
    "                cluster_points_i = X[S == i,:]\n",
    "                centroids[i] = np.mean(cluster_points_i, axis=0)  # Update centroid position\n",
    "                print(centroids[i])\n",
    "            \n",
    "            S_old = S\n",
    "\n",
    "np.random.seed(42)\n",
    "X = np.random.rand(10, 2)\n",
    "kmeans = KMeans(3, 10)\n",
    "kmeans.fit_predict(X)\n",
    "\n",
    "\n",
    "\n",
    "            \n",
    "            \n",
    "        \n",
    "        \n",
    "        \n",
    "    \n",
    "    "
   ]
  }
 ],
 "metadata": {
  "kernelspec": {
   "display_name": "Python 3",
   "language": "python",
   "name": "python3"
  },
  "language_info": {
   "codemirror_mode": {
    "name": "ipython",
    "version": 2
   },
   "file_extension": ".py",
   "mimetype": "text/x-python",
   "name": "python",
   "nbconvert_exporter": "python",
   "pygments_lexer": "ipython2",
   "version": "2.7.6"
  }
 },
 "nbformat": 4,
 "nbformat_minor": 5
}
