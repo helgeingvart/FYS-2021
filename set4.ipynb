{
 "cells": [
  {
   "cell_type": "markdown",
   "source": [
    "**1a)**\n",
    "Implement a function that computes the binary entropy\n",
    "\n",
    "The function takes as input one feature vector x and the corresponding label y. Binary entropy means binary labels y=0/1"
   ],
   "metadata": {
    "collapsed": false
   }
  },
  {
   "cell_type": "code",
   "execution_count": null,
   "outputs": [],
   "source": [
    "import numpy\n",
    "import numpy as np\n",
    "from numpy import log2\n",
    "\n",
    "def entropy(y: np.array):\n",
    "    counts = np.bincount(y)\n",
    "    p_0 = counts[0]/len(y)\n",
    "    p_1 = 1 - p_0\n",
    "    return -p_0*log2(p_0) - p_1*log2(p_1)\n"
   ],
   "metadata": {
    "collapsed": false
   }
  },
  {
   "cell_type": "markdown",
   "source": [
    "**1b)**\n",
    "Implement a function that takes one given feature of a dataset, and finds the best split (the split that\n",
    "minimises the entropy) for the data. It is common to iterate over the data feature values, and calculate\n",
    "the entropy for the subsets that are larger or smaller (or equal) than the current value in the iteration.\n",
    "return the split that minimises the entropy and the corresponding entropy for the split"
   ],
   "metadata": {
    "collapsed": false
   }
  },
  {
   "cell_type": "code",
   "execution_count": null,
   "outputs": [],
   "source": [
    "import sys\n",
    "def split_feature(x: np.array, y: np.array):\n",
    "    min_impurity_index = -1\n",
    "    min_impurity = sys.float_info.max\n",
    "    # Iterate over all values in the features in x.\n",
    "    i_sorted = np.argsort(x)\n",
    "    x = x[i_sorted] # We actually don't need the sorted x-values.\n",
    "    y = y[i_sorted]\n",
    "    for i in range(len(x) - 1):\n",
    "        sub_1 = y[:i+1]\n",
    "        sub_2 = y[i+1:]\n",
    "        e_1 = entropy(sub_1)\n",
    "        e_2 = entropy(sub_2)\n",
    "        impurity = e_1*len(sub_1)/len(x) + e_2*len(sub_2)/len(x)\n",
    "        if impurity < min_impurity:\n",
    "            min_impurity = impurity\n",
    "            min_impurity_index = i\n",
    "\n",
    "    return min_impurity, min_impurity_index, i_sorted\n",
    "\n",
    "\n",
    "\n",
    "\n"
   ],
   "metadata": {
    "collapsed": false
   }
  },
  {
   "cell_type": "markdown",
   "source": [
    "**1c)**\n",
    "Implement a function that takes a dataset (nsamples × nfeatures) and finds the single best split (the split\n",
    "with the least entropy) across all features. That is the function find_best_split. Return the best split\n",
    "found."
   ],
   "metadata": {
    "collapsed": false
   }
  },
  {
   "cell_type": "code",
   "execution_count": null,
   "outputs": [],
   "source": [
    "def find_best_split(X: np.array, y:np.array):\n",
    "    M = X.shape()[1]\n",
    "    min_impurity_global = sys.float_info.max\n",
    "    min_impurity_feature_index = -1\n",
    "    min_impurity_index_on_feature = -1\n",
    "    sort_order = []\n",
    "    for i in range(M):\n",
    "        feature = X[:,i]\n",
    "        min_impurity, min_impurity_index, i_sorted = split_feature(feature,y)\n",
    "        if min_impurity < min_impurity_global:\n",
    "            min_impurity_index_on_feature = min_impurity\n",
    "            min_impurity_feature_index = i\n",
    "            sort_order = i_sorted\n",
    "\n",
    "    return min_impurity_feature_index, min_impurity_index_on_feature, sort_order\n"
   ],
   "metadata": {
    "collapsed": false
   }
  },
  {
   "cell_type": "markdown",
   "source": [
    "**1d)**\n",
    "Using the functions you implemented above, write your own version of the Classification Tree algorithm,\n",
    "using recursion. Remember to include a parameter specifying the maximum depth of the tree to prevent\n",
    "overfitting\n",
    "![Ethem univariate tree construction](img/decision_tree.png)"
   ],
   "metadata": {
    "collapsed": false
   }
  },
  {
   "cell_type": "code",
   "execution_count": 13,
   "outputs": [
    {
     "ename": "SyntaxError",
     "evalue": "invalid syntax (3196586135.py, line 21)",
     "output_type": "error",
     "traceback": [
      "\u001B[1;36m  File \u001B[1;32m\"C:\\Users\\helge\\AppData\\Local\\Temp\\ipykernel_28296\\3196586135.py\"\u001B[1;36m, line \u001B[1;32m21\u001B[0m\n\u001B[1;33m    branch1.fit(data and labels assigned to branch 1)\u001B[0m\n\u001B[1;37m                                ^\u001B[0m\n\u001B[1;31mSyntaxError\u001B[0m\u001B[1;31m:\u001B[0m invalid syntax\n"
     ]
    }
   ],
   "source": [
    "\n",
    "class Tree:\n",
    "    # Initialize variables\n",
    "    def __init__(self, minimum_entropy, data, labels, feature_index):\n",
    "        self.__min_entropy = minimum_entropy\n",
    "        self.__split_value = numpy.NaN\n",
    "        self.__data = data\n",
    "        self.__labels = labels\n",
    "        self.__feature_index = feature_index\n",
    "        return\n",
    "\n",
    "# Implements the \"GenerateTree\"-function from Fig. 9.3 in the book.\n",
    "    def fit(self, data, labels):\n",
    "        if entropy(labels) < self.__min_entropy:    # Stopping condition for recursion\n",
    "            return\n",
    "\n",
    "        feature_index, min_impurity_index_on_feature, sort_order  = \\\n",
    "            find_best_split(self.__data, self.__labels)\n",
    "\n",
    "        self.__data = self.__data[sort_order]\n",
    "        self.__labels = self.__labels[sort_order]\n",
    "\n",
    "        # Create branches\n",
    "\n",
    "        # IMPORTANT: Remove feature column that we split on before constructing branches!!!\n",
    "\n",
    "        # Lacks some details still on the first arguments on constructor\n",
    "        branch1 = Tree(self.__min_entropy,\n",
    "                       self.__data[:,min_impurity_index_on_feature],\n",
    "                       self.__labels[:,min_impurity_index_on_feature],\n",
    "                       feature_index)\n",
    "        branch2 = Tree(self.__min_entropy,\n",
    "                       self.__data[min_impurity_index_on_feature,:],\n",
    "                       self.__labels[min_impurity_index_on_feature,:],\n",
    "                       feature_index)\n",
    "\n",
    "\n",
    "        # Generate sub-trees\n",
    "        branch1.fit(data and labels assigned to branch 1)\n",
    "        branch2.fit(data and labels assigned to branch 2)\n",
    "\n",
    "\n",
    "    # Find leaf corresponding to row\n",
    "    def predict(x):\n",
    "        return\n"
   ],
   "metadata": {
    "collapsed": false,
    "ExecuteTime": {
     "end_time": "2023-09-26T14:20:14.700710400Z",
     "start_time": "2023-09-26T14:20:14.685534300Z"
    }
   }
  }
 ],
 "metadata": {
  "kernelspec": {
   "display_name": "Python 3",
   "language": "python",
   "name": "python3"
  },
  "language_info": {
   "codemirror_mode": {
    "name": "ipython",
    "version": 2
   },
   "file_extension": ".py",
   "mimetype": "text/x-python",
   "name": "python",
   "nbconvert_exporter": "python",
   "pygments_lexer": "ipython2",
   "version": "2.7.6"
  }
 },
 "nbformat": 4,
 "nbformat_minor": 0
}
