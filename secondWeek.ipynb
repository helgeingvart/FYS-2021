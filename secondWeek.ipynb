{
 "cells": [
  {
   "cell_type": "markdown",
   "source": [
    "# Bayesian decision theory and parametric methods\n",
    "\n",
    "This is an attempt to implement the programming tasks from Week36 - called Excersise set 3.\n"
   ],
   "metadata": {
    "collapsed": false
   }
  },
  {
   "cell_type": "markdown",
   "source": [
    "First out is (2a). Some inspiration collected from ChatGPT."
   ],
   "metadata": {
    "collapsed": false
   }
  },
  {
   "cell_type": "code",
   "execution_count": 21,
   "outputs": [
    {
     "data": {
      "text/plain": "<Figure size 640x480 with 1 Axes>",
      "image/png": "[encoded data removed]"
     },
     "metadata": {},
     "output_type": "display_data"
    },
    {
     "name": "stdout",
     "output_type": "stream",
     "text": [
      "| 843 157 |\n",
      "| 171 829 |\n"
     ]
    }
   ],
   "source": [
    "from math import sqrt, pi, exp\n",
    "from scipy.stats import uniform, norm\n",
    "import matplotlib.pyplot as plt\n",
    "import numpy as np\n",
    "\n",
    "class Bayesian:\n",
    "\n",
    "    def __init__(self ,prior_A, prior_B) :\n",
    "        # define the prior probabilities\n",
    "        self._prior_A = prior_A\n",
    "        self._prior_B = prior_B\n",
    "        self._mu_A = 0\n",
    "        self._mu_B = 1\n",
    "        self._sigma_A = 0.5\n",
    "        self._sigma_B = 0.5\n",
    "\n",
    "    # define the class likelihood functions as normal distributions\n",
    "    def __likelihood(self, x, mean, std_dev):\n",
    "        return (1 / (sqrt(2 * pi) * std_dev)) * exp(-0.5 * ((x - mean) / std_dev)**2)\n",
    "\n",
    "    def classify(self, observations):\n",
    "        # classify each observation\n",
    "        classifications_bayesian = []\n",
    "        for x in observations:\n",
    "\n",
    "            # calculate the likelihoods of x belonging to each class\n",
    "            likelihood_A = self.__likelihood(x, self._mu_A, self._sigma_A)\n",
    "            likelihood_B = self.__likelihood(x, self._mu_B, self._sigma_B)\n",
    "\n",
    "            # calculate the posterior probabilities using Bayes' theorem\n",
    "            posterior_A = (likelihood_A * self._prior_A) / (likelihood_A * self._prior_A + likelihood_B * self._prior_B)\n",
    "            posterior_B = (likelihood_B * self._prior_B) / (likelihood_A * self._prior_A + likelihood_B * self._prior_B)\n",
    "\n",
    "            # determine the class with the highest posterior probability\n",
    "            if posterior_A > posterior_B:\n",
    "                # print(f\"{x} belongs to class A\")\n",
    "                classifications_bayesian.append(0)\n",
    "            else:\n",
    "                # print(f\"{x} belongs to class B\")\n",
    "                classifications_bayesian.append(1)\n",
    "\n",
    "        return classifications_bayesian\n",
    "\n",
    "    def generate_normal_distributed_A(self, number):\n",
    "        return norm.rvs(self._mu_A, self._sigma_A, number)\n",
    "\n",
    "    def generate_normal_distributed_B(self, number):\n",
    "        return norm.rvs(self._mu_B, self._sigma_B, number)\n",
    "\n",
    "    # Generate 1000 samples from each of the distributions, and classify these using your implementation.\n",
    "    # Calculate the confusion matrix, and plot the histograms of the samples. Illustrate the decision boundary\n",
    "    # together with the histograms.\n",
    "\n",
    "bayesian = Bayesian(0.5, 0.5)\n",
    "numbers_A = bayesian.generate_normal_distributed_A(1000)\n",
    "numbers_B = bayesian.generate_normal_distributed_B(1000)\n",
    "\n",
    "classifications_A = bayesian.classify(numbers_A)\n",
    "classifications_B = bayesian.classify(numbers_B)\n",
    "\n",
    "bin = np.arange(-4,4,0.1)\n",
    "\n",
    "plt.hist(numbers_A, bins=bin, edgecolor='blue')\n",
    "plt.hist(numbers_B, bins=bin, edgecolor='red')\n",
    "\n",
    "# Plot decision boundary\n",
    "plt.axvline(x=0.5)\n",
    "\n",
    "plt.show()\n",
    "\n",
    "# We consider A to be the FALSE class and B to be TRUE class. Thus, a confusion matrix will be\n",
    "# | Number true  A  Number false B  |\n",
    "# | Number false A  Number true B   |\n",
    "\n",
    "true_negatives = classifications_A.count(0)\n",
    "false_negatives = classifications_B.count(0)\n",
    "true_positives = classifications_B.count(1)\n",
    "false_positives = classifications_A.count(1)\n",
    "\n",
    "# Se sci-py documentation for reference https://scikit-learn.org/stable/modules/generated/sklearn.metrics.confusion_matrix.html\n",
    "print(\"|\",true_negatives, false_positives, \"|\")\n",
    "print(\"|\",false_negatives, true_positives, \"|\")\n"
   ],
   "metadata": {
    "collapsed": false
   }
  },
  {
   "cell_type": "code",
   "execution_count": null,
   "outputs": [],
   "source": [],
   "metadata": {
    "collapsed": false
   }
  }
 ],
 "metadata": {
  "kernelspec": {
   "display_name": "Python 3",
   "language": "python",
   "name": "python3"
  },
  "language_info": {
   "codemirror_mode": {
    "name": "ipython",
    "version": 2
   },
   "file_extension": ".py",
   "mimetype": "text/x-python",
   "name": "python",
   "nbconvert_exporter": "python",
   "pygments_lexer": "ipython2",
   "version": "2.7.6"
  }
 },
 "nbformat": 4,
 "nbformat_minor": 0
}
