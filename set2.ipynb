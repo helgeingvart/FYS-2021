{
 "cells": [
  {
   "cell_type": "markdown",
   "source": [
    "# set2\n",
    "\n",
    "This is an attempt to implement the programming tasks from Week36 - called Excersise set 3.\n"
   ],
   "metadata": {
    "collapsed": false
   }
  },
  {
   "cell_type": "markdown",
   "source": [
    "First out is (2a) and (2b). Some inspiration collected from ChatGPT and sci-kit learn docs."
   ],
   "metadata": {
    "collapsed": false
   }
  },
  {
   "cell_type": "code",
   "execution_count": 24,
   "outputs": [
    {
     "data": {
      "text/plain": "<Figure size 640x480 with 1 Axes>",
      "image/png": "[encoded data removed]"
     },
     "metadata": {},
     "output_type": "display_data"
    },
    {
     "name": "stdout",
     "output_type": "stream",
     "text": [
      "| 842 158 |\n",
      "| 173 827 |\n",
      "Accuracy: 0.8345\n"
     ]
    }
   ],
   "source": [
    "from math import sqrt, pi, exp\n",
    "from scipy.stats import uniform, norm\n",
    "import matplotlib.pyplot as plt\n",
    "import numpy as np\n",
    "\n",
    "class Bayesian:\n",
    "\n",
    "    def __init__(self ,prior_A, prior_B) :\n",
    "        # define the prior probabilities\n",
    "        self._prior_A = prior_A\n",
    "        self._prior_B = prior_B\n",
    "        self._mu_A = 0\n",
    "        self._mu_B = 1\n",
    "        self._sigma_A = 0.5\n",
    "        self._sigma_B = 0.5\n",
    "\n",
    "    # define the class likelihood functions as normal distributions\n",
    "    def __likelihood(self, x, mean, std_dev):\n",
    "        return (1 / (sqrt(2 * pi) * std_dev)) * exp(-0.5 * ((x - mean) / std_dev)**2)\n",
    "\n",
    "    def classify(self, observations):\n",
    "        # classify each observation\n",
    "        classifications_bayesian = []\n",
    "        for x in observations:\n",
    "\n",
    "            # calculate the likelihoods of x belonging to each class\n",
    "            likelihood_A = self.__likelihood(x, self._mu_A, self._sigma_A)\n",
    "            likelihood_B = self.__likelihood(x, self._mu_B, self._sigma_B)\n",
    "\n",
    "            # calculate the posterior probabilities using Bayes' theorem\n",
    "            posterior_A = (likelihood_A * self._prior_A) / (likelihood_A * self._prior_A + likelihood_B * self._prior_B)\n",
    "            posterior_B = (likelihood_B * self._prior_B) / (likelihood_A * self._prior_A + likelihood_B * self._prior_B)\n",
    "\n",
    "            # determine the class with the highest posterior probability\n",
    "            if posterior_A > posterior_B:\n",
    "                # print(f\"{x} belongs to class A\")\n",
    "                classifications_bayesian.append(0)\n",
    "            else:\n",
    "                # print(f\"{x} belongs to class B\")\n",
    "                classifications_bayesian.append(1)\n",
    "\n",
    "        return classifications_bayesian\n",
    "\n",
    "    # See https://www.alphacodingskills.com/scipy/scipy-normal-distribution.php for nice docs on the norm function in scipy.stat\n",
    "    def generate_normal_distributed_A(self, number):\n",
    "        return norm.rvs(self._mu_A, self._sigma_A, number)\n",
    "\n",
    "    def generate_normal_distributed_B(self, number):\n",
    "        return norm.rvs(self._mu_B, self._sigma_B, number)\n",
    "\n",
    "# (2b)\n",
    "# Generate 1000 samples from each of the distributions, and classify these using your implementation.\n",
    "# Calculate the confusion matrix, and plot the histograms of the samples. Illustrate the decision boundary\n",
    "# together with the histograms.\n",
    "\n",
    "bayesian = Bayesian(0.5, 0.5)\n",
    "numbers_A = bayesian.generate_normal_distributed_A(1000)\n",
    "numbers_B = bayesian.generate_normal_distributed_B(1000)\n",
    "\n",
    "classifications_A = bayesian.classify(numbers_A)\n",
    "classifications_B = bayesian.classify(numbers_B)\n",
    "\n",
    "bin = np.arange(-4,4,0.1)\n",
    "\n",
    "plt.hist(numbers_A, bins=bin, edgecolor='blue')\n",
    "plt.hist(numbers_B, bins=bin, edgecolor='red')\n",
    "\n",
    "# Plot decision boundary\n",
    "plt.axvline(x=0.5)\n",
    "\n",
    "plt.show()\n",
    "\n",
    "# We consider A to be the FALSE class and B to be TRUE class. Thus, a confusion matrix will be\n",
    "# | Number true  A  Number false B  |\n",
    "# | Number false A  Number true B   |\n",
    "\n",
    "true_negatives = classifications_A.count(0)\n",
    "false_negatives = classifications_B.count(0)\n",
    "true_positives = classifications_B.count(1)\n",
    "false_positives = classifications_A.count(1)\n",
    "\n",
    "# Se sci-py documentation for reference https://scikit-learn.org/stable/modules/generated/sklearn.metrics.confusion_matrix.html\n",
    "print(\"|\",true_negatives, false_positives, \"|\")\n",
    "print(\"|\",false_negatives, true_positives, \"|\")\n",
    "\n",
    "# Accuracy is defined as Acc = (TP + TN)/(P + N)\n",
    "acc = (true_positives + true_negatives)/2000\n",
    "print(\"Accuracy:\", acc)\n"
   ],
   "metadata": {
    "collapsed": false
   }
  },
  {
   "cell_type": "markdown",
   "source": [
    "(2c) Generate 1000 samples from a Unif(−0.87, 0.87) distribution, and 1000 samples from a Unif(0.13, 1.87).\n",
    "Classify these samples using the same classifier as above. Calculate the accuracy, and compare it with the\n",
    "previous result. You should see a drop in accuracy, even though the mean and standard-deviation of the\n",
    "sampling distributions are equal. Why is this the case?"
   ],
   "metadata": {
    "collapsed": false
   }
  },
  {
   "cell_type": "code",
   "execution_count": 36,
   "outputs": [
    {
     "name": "stdout",
     "output_type": "stream",
     "text": [
      "Accuracy: 0.7895\n"
     ]
    },
    {
     "data": {
      "text/plain": "<Figure size 640x480 with 1 Axes>",
      "image/png": "[encoded data removed]"
     },
     "metadata": {},
     "output_type": "display_data"
    }
   ],
   "source": [
    "# Hmm, they seem to have changed the definition of the rvs function. Second argument is no longer the\n",
    "# upper limit, but rather the length of the interval...\n",
    "\n",
    "numbers_A = uniform.rvs(-0.87,2*0.87, 1000)\n",
    "numbers_B = uniform.rvs(0.13,1.87-0.13, 1000)\n",
    "classifications_A = bayesian.classify(numbers_A)\n",
    "classifications_B = bayesian.classify(numbers_B)\n",
    "\n",
    "# We consider A to be the FALSE class and B to be TRUE class. Thus, a confusion matrix will be\n",
    "true_negatives = classifications_A.count(0)\n",
    "false_negatives = classifications_B.count(0)\n",
    "true_positives = classifications_B.count(1)\n",
    "false_positives = classifications_A.count(1)\n",
    "\n",
    "acc = (true_positives + true_negatives)/2000\n",
    "print(\"Accuracy:\", acc)\n",
    "\n",
    "# The\n",
    "\n",
    "plt.hist(numbers_A, bins=bin, edgecolor='blue')\n",
    "plt.hist(numbers_B, bins=bin, edgecolor='red')\n",
    "plt.show()\n"
   ],
   "metadata": {
    "collapsed": false
   }
  },
  {
   "cell_type": "markdown",
   "source": [
    "Now, we consider Problem 4. We first load the education-salary.csv data set. Before loading the file, I removed the explaining text, and added headers to the columns (Type, Salary).\n",
    "\n",
    "(4a) Plotting box plots and histograms for the three education levels"
   ],
   "metadata": {
    "collapsed": false
   }
  },
  {
   "cell_type": "code",
   "execution_count": 65,
   "outputs": [
    {
     "data": {
      "text/plain": "<Figure size 640x480 with 6 Axes>",
      "image/png": "[encoded data removed]"
     },
     "metadata": {},
     "output_type": "display_data"
    }
   ],
   "source": [
    "import pandas as pd\n",
    "import matplotlib.pyplot as plt\n",
    "\n",
    "\n",
    "df = pd.read_csv(\"task-sheets/W36/education-salary.csv\", sep=\" \")\n",
    "\n",
    "primary = df[df['Type'] == 0]\n",
    "high = df[df['Type'] == 1]\n",
    "uni = df[df['Type'] == 2]\n",
    "\n",
    "fig, axes = plt.subplots(nrows=3, ncols=2)\n",
    "primary.Salary.hist(bins=20, ax=axes[0,0])\n",
    "primary.boxplot(column=['Salary'], ax=axes[0,1])\n",
    "\n",
    "high.Salary.hist(bins=20, ax=axes[1,0])\n",
    "high.boxplot(column=['Salary'], ax=axes[1,1])\n",
    "\n",
    "uni.Salary.hist(bins=20, ax=axes[2,0])\n",
    "uni.boxplot(column=['Salary'], ax=axes[2,1])\n",
    "\n",
    "plt.show()"
   ],
   "metadata": {
    "collapsed": false
   }
  },
  {
   "cell_type": "markdown",
   "source": [
    "(4d) The numerical value of $\\mu_{MAP}$ for the elementary level based on the data"
   ],
   "metadata": {
    "collapsed": false
   }
  },
  {
   "cell_type": "code",
   "execution_count": 66,
   "outputs": [
    {
     "name": "stdout",
     "output_type": "stream",
     "text": [
      "Estimate on the maximum a posteriory: 36928.9300382716\n"
     ]
    }
   ],
   "source": [
    "mu_MAP = primary.Salary.mean()\n",
    "print(\"Estimate on the maximum a posteriory:\", mu_MAP)"
   ],
   "metadata": {
    "collapsed": false
   }
  },
  {
   "cell_type": "markdown",
   "source": [
    "(4e) Classification of the education level will be based on using the normal distribution"
   ],
   "metadata": {
    "collapsed": false
   }
  },
  {
   "cell_type": "code",
   "execution_count": 87,
   "outputs": [
    {
     "name": "stdout",
     "output_type": "stream",
     "text": [
      "3.104740300012244e-08 2.977869890128442e-06 2.9267180869957245e-05\n",
      "An income of 60000 is classified as University\n"
     ]
    }
   ],
   "source": [
    "def probability_gaussian(x, mean, std_dev):\n",
    "        return (1 / (sqrt(2 * pi) * std_dev)) * exp(-0.5 * ((x - mean) / std_dev)**2)\n",
    "\n",
    "x = 5000*12\n",
    "\n",
    "probability_0 = probability_gaussian(x, primary.Salary.mean(), primary.Salary.std())\n",
    "probability_1 = probability_gaussian(x, high.Salary.mean(), high.Salary.std())\n",
    "probability_2 = probability_gaussian(x, uni.Salary.mean(), uni.Salary.std())\n",
    "\n",
    "classificaiton = \"Primary\"\n",
    "\n",
    "if probability_1 > probability_0 and probability_1 > probability_2:\n",
    "    classificaiton = \"High scool\"\n",
    "\n",
    "if probability_2 > probability_1 and probability_2 > probability_0 :\n",
    "    classificaiton = \"University\"\n",
    "\n",
    "print(probability_0, probability_1, probability_2)\n",
    "print(\"An income of\", x, \"is classified as\", classificaiton)\n"
   ],
   "metadata": {
    "collapsed": false
   }
  },
  {
   "cell_type": "markdown",
   "source": [
    "(4f) Bayesian classification based on equation 4.22, assuming P(C_i) = N_i/N_total"
   ],
   "metadata": {
    "collapsed": false
   }
  },
  {
   "cell_type": "code",
   "execution_count": 98,
   "outputs": [
    {
     "name": "stdout",
     "output_type": "stream",
     "text": [
      "Primary is the education associated with an income of 17880\n",
      "-13.762688456865975 -15.77279315753042 -13.776010356047617\n"
     ]
    }
   ],
   "source": [
    "from math import log\n",
    "\n",
    "def discriminant_function(x, mean, std_dev, n_i, n_total) :\n",
    "    return -0.5*log(2*pi) - log(std_dev) - 0.5*((x - mean)/std_dev)**2 - log(n_i/n_total)\n",
    "\n",
    "x = 1490*12\n",
    "\n",
    "g_0 = discriminant_function(x, primary.Salary.mean(), primary.Salary.std(), primary.Salary.count(), df.Salary.count())\n",
    "g_1 = discriminant_function(x, high.Salary.mean(), high.Salary.std(), high.Salary.count(), df.Salary.count())\n",
    "g_2 = discriminant_function(x, uni.Salary.mean(), uni.Salary.std(), uni.Salary.count(), df.Salary.count())\n",
    "\n",
    "dict = {\n",
    "    g_0 : \"Primary\",\n",
    "    g_1 : \"High School\",\n",
    "    g_2 : \"University\"\n",
    "}\n",
    "\n",
    "print(dict[max(dict.keys())], \"is the education associated with an income of\",x)\n",
    "\n",
    "print(g_0, g_1, g_2)"
   ],
   "metadata": {
    "collapsed": false
   }
  }
 ],
 "metadata": {
  "kernelspec": {
   "display_name": "Python 3",
   "language": "python",
   "name": "python3"
  },
  "language_info": {
   "codemirror_mode": {
    "name": "ipython",
    "version": 2
   },
   "file_extension": ".py",
   "mimetype": "text/x-python",
   "name": "python",
   "nbconvert_exporter": "python",
   "pygments_lexer": "ipython2",
   "version": "2.7.6"
  }
 },
 "nbformat": 4,
 "nbformat_minor": 0
}
