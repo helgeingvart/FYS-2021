{
 "cells": [
  {
   "cell_type": "markdown",
   "source": [
    "# Set 1: Vectorized code and introduction to machine learning\n",
    "\n",
    "## Task 1c)"
   ],
   "metadata": {
    "collapsed": false
   }
  },
  {
   "cell_type": "code",
   "execution_count": 2,
   "outputs": [
    {
     "name": "stdout",
     "output_type": "stream",
     "text": [
      "550\n"
     ]
    }
   ],
   "source": [
    "import numpy as np\n",
    "\n",
    "a = np.array([1,2,3,4,5])\n",
    "b = np.array([10,20,30,40,50])\n",
    "\n",
    "y = a @ b\n",
    "print(y)"
   ],
   "metadata": {
    "collapsed": false,
    "ExecuteTime": {
     "end_time": "2023-08-21T11:14:14.695556100Z",
     "start_time": "2023-08-21T11:14:14.684049200Z"
    }
   }
  },
  {
   "cell_type": "markdown",
   "source": [
    "## Task 1d)"
   ],
   "metadata": {
    "collapsed": false
   }
  },
  {
   "cell_type": "code",
   "execution_count": 3,
   "outputs": [
    {
     "name": "stdout",
     "output_type": "stream",
     "text": [
      "[ 68 167 266]\n"
     ]
    }
   ],
   "source": [
    "X = np.array([[1,2,3],\n",
    "              [4,5,6],\n",
    "              [7,8,9]])\n",
    "b = np.array([10,11,12])\n",
    "\n",
    "y = X @ b\n",
    "print(y)"
   ],
   "metadata": {
    "collapsed": false,
    "ExecuteTime": {
     "end_time": "2023-08-21T11:54:24.924268200Z",
     "start_time": "2023-08-21T11:54:24.918768300Z"
    }
   }
  },
  {
   "cell_type": "markdown",
   "source": [
    "## Task 1e)"
   ],
   "metadata": {
    "collapsed": false
   }
  },
  {
   "cell_type": "code",
   "execution_count": 5,
   "outputs": [
    {
     "name": "stdout",
     "output_type": "stream",
     "text": [
      "501\n"
     ]
    }
   ],
   "source": [
    "X = np.array([[1,2,3],\n",
    "              [4,5,6],\n",
    "              [7,8,9]])\n",
    "b = np.array([10,11,12])\n",
    "\n",
    "y = (X @ b).sum()\n",
    "print(y)"
   ],
   "metadata": {
    "collapsed": false,
    "ExecuteTime": {
     "end_time": "2023-08-21T11:56:02.290890500Z",
     "start_time": "2023-08-21T11:56:02.273039800Z"
    }
   }
  },
  {
   "cell_type": "markdown",
   "source": [
    "## Task 1f)"
   ],
   "metadata": {
    "collapsed": false
   }
  },
  {
   "cell_type": "code",
   "execution_count": 18,
   "outputs": [
    {
     "name": "stdout",
     "output_type": "stream",
     "text": [
      "[[ 47  62  77  92]\n",
      " [ 59  78  97 116]\n",
      " [ 71  94 117 140]\n",
      " [ 83 110 137 164]]\n",
      "[260 344 428 512]\n"
     ]
    }
   ],
   "source": [
    "\n",
    "Z = np.array([[7,8],[9,10],[11,12],[13,14]])   # Z is a PxM matrix. Here P=4 and M=2\n",
    "\n",
    "X = np.array([[1,2,3,4],\n",
    "              [5,6,7,8]])  # X is a MxN matrix. Here M=2 and N=4\n",
    "\n",
    "Y = Z @ X   # This should be a PxN matrix (here 4x4)\n",
    "print (Y)\n",
    "\n",
    "# Now, we could simply sum each column to get the desired result:\n",
    "Y = Y.sum(axis=0)\n",
    "\n",
    "# In one operation\n",
    "Y = (Z @ X).sum(axis=0)\n",
    "print (Y)"
   ],
   "metadata": {
    "collapsed": false,
    "ExecuteTime": {
     "end_time": "2023-08-21T12:27:49.704848100Z",
     "start_time": "2023-08-21T12:27:49.688634100Z"
    }
   }
  },
  {
   "cell_type": "markdown",
   "source": [
    "## Task 1g)"
   ],
   "metadata": {
    "collapsed": false
   }
  },
  {
   "cell_type": "code",
   "execution_count": 20,
   "outputs": [],
   "source": [
    "# Samples. Here we have N=3 samples with n=5 features. Each sample is a row-vector in X.\n",
    "\n",
    "X = np.array([[1, 2, 3, 4, 5],\n",
    "     [6, 7, 8, 9, 10],\n",
    "     [11, 12, 13, 14, 15]])  # Nxn matrix\n",
    "\n",
    "# Parameter vector. These parameters takes each sample from R^n and maps them to R^P\n",
    "# Here we have chosen P=4\n",
    "\n",
    "w = np.array([[1, 2, 3, -1],\n",
    "     [4, 5, 6, -2],\n",
    "     [7, 8, 9, -3],\n",
    "     [10, 11, 12, -4],\n",
    "     [13, 14, 15, -5]])    # nxP matrix\n",
    "\n",
    "# \"Weight\" vector a. This vector should be in R^P, where P=4 in this case\n",
    "\n",
    "a= np.array([10, 20, 30, -10]).transpose()   #Transpose it to make it a column vector Px1\n",
    "\n",
    "v = X @ w    # Will form a NxP matrix\n",
    "\n",
    "y = v @ a    # Will form a Nx1 row vector, N=3\n",
    "\n",
    "print(y)\n"
   ],
   "metadata": {
    "collapsed": false,
    "ExecuteTime": {
     "end_time": "2023-08-22T07:24:02.200215700Z",
     "start_time": "2023-08-22T07:24:02.194714700Z"
    }
   }
  },
  {
   "cell_type": "markdown",
   "source": [
    "## Task 1h)"
   ],
   "metadata": {
    "collapsed": false
   }
  },
  {
   "cell_type": "code",
   "execution_count": 34,
   "outputs": [
    {
     "name": "stdout",
     "output_type": "stream",
     "text": [
      "(4, 3)\n",
      "(3, 1)\n"
     ]
    }
   ],
   "source": [
    "from numpy import ndarray\n",
    "\n",
    "def matrix_multiply(X: ndarray, Y: ndarray) :\n",
    "\n",
    "    if X.ndim != 2 or Y.ndim != 2:\n",
    "        raise Exception(\"We only accept ndarrays with the shape of matrixes (two dimensions)\")\n",
    "\n",
    "    print(X.shape)\n",
    "    print(Y.shape)\n",
    "\n",
    "    if X.shape[1] != Y.shape[0] :\n",
    "        raise Exception(\"Number of columns in X must equal number of rows in Y\")\n",
    "\n",
    "    # We have now established a valid multiplication of a nxm with a mxp matrix.\n",
    "    n = X.shape[0]\n",
    "    m = X.shape[1]\n",
    "    p = Y.shape[1]\n",
    "\n",
    "    # Now do the matrix multiplications\n",
    "\n",
    "    Z = ndarray(n,p)\n",
    "    for i=0 to n\n",
    "\n",
    "\n",
    "\n",
    "\n",
    "\n",
    "\n",
    "X = np.array([[1,2,3],\n",
    "              [4,5,6],\n",
    "              [7,8,9],\n",
    "              [10,11,12]])\n",
    "\n",
    "b = np.array([[10,11,12]]).T\n",
    "\n",
    "matrix_multiply(X,b)\n",
    "\n",
    "\n"
   ],
   "metadata": {
    "collapsed": false,
    "ExecuteTime": {
     "end_time": "2023-08-22T09:03:04.933540100Z",
     "start_time": "2023-08-22T09:03:04.923040600Z"
    }
   }
  }
 ],
 "metadata": {
  "kernelspec": {
   "display_name": "Python 3",
   "language": "python",
   "name": "python3"
  },
  "language_info": {
   "codemirror_mode": {
    "name": "ipython",
    "version": 2
   },
   "file_extension": ".py",
   "mimetype": "text/x-python",
   "name": "python",
   "nbconvert_exporter": "python",
   "pygments_lexer": "ipython2",
   "version": "2.7.6"
  }
 },
 "nbformat": 4,
 "nbformat_minor": 0
}
